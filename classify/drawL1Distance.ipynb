{
 "cells": [
  {
   "cell_type": "code",
   "id": "initial_id",
   "metadata": {
    "collapsed": true,
    "jupyter": {
     "outputs_hidden": true
    },
    "ExecuteTime": {
     "end_time": "2025-01-09T13:25:16.381931Z",
     "start_time": "2025-01-09T13:25:16.303951Z"
    }
   },
   "source": [
    "import os\n",
    "import glob\n",
    "import pandas as pd\n",
    "\n",
    "os.chdir('/mnt/d/code/ChimeraBenchmark')\n",
    "\n",
    "dir_pattern = \"benchmark_results_*_0.7threshold\"\n",
    "all_dirs = sorted(glob.glob(dir_pattern))\n",
    "\n",
    "all_csv_files = []\n",
    "for d in all_dirs:\n",
    "    csv_pattern = os.path.join(d, \"*abundance.csv\")\n",
    "    csv_files = glob.glob(csv_pattern)\n",
    "    all_csv_files.extend(csv_files)\n"
   ],
   "outputs": [],
   "execution_count": 13
  },
  {
   "cell_type": "code",
   "id": "3feceb0e586db479",
   "metadata": {
    "ExecuteTime": {
     "end_time": "2025-01-09T13:25:16.387478Z",
     "start_time": "2025-01-09T13:25:16.384182Z"
    }
   },
   "source": [
    "print(\"共找到的 CSV 文件数：\", len(all_csv_files))"
   ],
   "outputs": [
    {
     "name": "stdout",
     "output_type": "stream",
     "text": [
      "共找到的 CSV 文件数： 7416\n"
     ]
    }
   ],
   "execution_count": 14
  },
  {
   "cell_type": "code",
   "id": "55eabfa758675cb7",
   "metadata": {
    "ExecuteTime": {
     "end_time": "2025-01-09T13:25:36.197776Z",
     "start_time": "2025-01-09T13:25:16.388879Z"
    }
   },
   "source": [
    "df_list = []\n",
    "for csv_file in all_csv_files:\n",
    "    temp_df = pd.read_csv(csv_file)\n",
    "    folder_name = os.path.basename(os.path.dirname(csv_file))\n",
    "    core_name = folder_name.replace(\"benchmark_results_\", \"\").replace(\"_0.7threshold\", \"\")\n",
    "    if \"completeONE\" in core_name:\n",
    "        db_type = \"completeONE\"\n",
    "        data_type = core_name.replace(\"_completeONE\", \"\")\n",
    "    else:\n",
    "        db_type = \"complete\"\n",
    "        data_type = core_name.replace(\"_complete\", \"\")\n",
    "    temp_df[\"DataType_Folder\"] = data_type\n",
    "    temp_df[\"DBType_Folder\"] = db_type\n",
    "    \n",
    "    df_list.append(temp_df)\n",
    "df_all = pd.concat(df_list, ignore_index=True)\n",
    "\n",
    "print(\"合并后的 DataFrame 形状:\", df_all.shape)\n",
    "df_all.head()"
   ],
   "outputs": [
    {
     "name": "stdout",
     "output_type": "stream",
     "text": [
      "合并后的 DataFrame 形状: (51912, 7)\n"
     ]
    },
    {
     "data": {
      "text/plain": [
       "            Dataset Name     Database Taxonomic Rank Software  L1 Distance  \\\n",
       "0  sample0_anonymous_gsa  completeONE   Superkingdom  bracken       0.0349   \n",
       "1  sample0_anonymous_gsa  completeONE         Phylum  bracken       0.1272   \n",
       "2  sample0_anonymous_gsa  completeONE          Class  bracken       0.2001   \n",
       "3  sample0_anonymous_gsa  completeONE          Order  bracken       0.3182   \n",
       "4  sample0_anonymous_gsa  completeONE         Family  bracken       0.4263   \n",
       "\n",
       "  DataType_Folder DBType_Folder  \n",
       "0         marlong   completeONE  \n",
       "1         marlong   completeONE  \n",
       "2         marlong   completeONE  \n",
       "3         marlong   completeONE  \n",
       "4         marlong   completeONE  "
      ],
      "text/html": [
       "<div>\n",
       "<style scoped>\n",
       "    .dataframe tbody tr th:only-of-type {\n",
       "        vertical-align: middle;\n",
       "    }\n",
       "\n",
       "    .dataframe tbody tr th {\n",
       "        vertical-align: top;\n",
       "    }\n",
       "\n",
       "    .dataframe thead th {\n",
       "        text-align: right;\n",
       "    }\n",
       "</style>\n",
       "<table border=\"1\" class=\"dataframe\">\n",
       "  <thead>\n",
       "    <tr style=\"text-align: right;\">\n",
       "      <th></th>\n",
       "      <th>Dataset Name</th>\n",
       "      <th>Database</th>\n",
       "      <th>Taxonomic Rank</th>\n",
       "      <th>Software</th>\n",
       "      <th>L1 Distance</th>\n",
       "      <th>DataType_Folder</th>\n",
       "      <th>DBType_Folder</th>\n",
       "    </tr>\n",
       "  </thead>\n",
       "  <tbody>\n",
       "    <tr>\n",
       "      <th>0</th>\n",
       "      <td>sample0_anonymous_gsa</td>\n",
       "      <td>completeONE</td>\n",
       "      <td>Superkingdom</td>\n",
       "      <td>bracken</td>\n",
       "      <td>0.0349</td>\n",
       "      <td>marlong</td>\n",
       "      <td>completeONE</td>\n",
       "    </tr>\n",
       "    <tr>\n",
       "      <th>1</th>\n",
       "      <td>sample0_anonymous_gsa</td>\n",
       "      <td>completeONE</td>\n",
       "      <td>Phylum</td>\n",
       "      <td>bracken</td>\n",
       "      <td>0.1272</td>\n",
       "      <td>marlong</td>\n",
       "      <td>completeONE</td>\n",
       "    </tr>\n",
       "    <tr>\n",
       "      <th>2</th>\n",
       "      <td>sample0_anonymous_gsa</td>\n",
       "      <td>completeONE</td>\n",
       "      <td>Class</td>\n",
       "      <td>bracken</td>\n",
       "      <td>0.2001</td>\n",
       "      <td>marlong</td>\n",
       "      <td>completeONE</td>\n",
       "    </tr>\n",
       "    <tr>\n",
       "      <th>3</th>\n",
       "      <td>sample0_anonymous_gsa</td>\n",
       "      <td>completeONE</td>\n",
       "      <td>Order</td>\n",
       "      <td>bracken</td>\n",
       "      <td>0.3182</td>\n",
       "      <td>marlong</td>\n",
       "      <td>completeONE</td>\n",
       "    </tr>\n",
       "    <tr>\n",
       "      <th>4</th>\n",
       "      <td>sample0_anonymous_gsa</td>\n",
       "      <td>completeONE</td>\n",
       "      <td>Family</td>\n",
       "      <td>bracken</td>\n",
       "      <td>0.4263</td>\n",
       "      <td>marlong</td>\n",
       "      <td>completeONE</td>\n",
       "    </tr>\n",
       "  </tbody>\n",
       "</table>\n",
       "</div>"
      ]
     },
     "execution_count": 15,
     "metadata": {},
     "output_type": "execute_result"
    }
   ],
   "execution_count": 15
  },
  {
   "metadata": {
    "jupyter": {
     "is_executing": true
    },
    "ExecuteTime": {
     "start_time": "2025-01-09T13:25:36.200155Z"
    }
   },
   "cell_type": "code",
   "source": [
    "import pandas as pd\n",
    "import seaborn as sns\n",
    "import matplotlib.pyplot as plt\n",
    "\n",
    "# ===== 1. 预处理：只保留 Species 级别 & 排除 simulated ==================\n",
    "df_species = df_all[\n",
    "    (df_all[\"Taxonomic Rank\"] == \"Species\") &\n",
    "    (df_all[\"DataType_Folder\"] != \"simulated\")\n",
    "].copy()\n",
    "\n",
    "# ===== 2. 映射 DataType_Folder 到更易读的名称 ==========================\n",
    "data_type_labels = {\n",
    "    \"marlong\": \"CAMI II Marine (long read)\",\n",
    "    \"marshort\": \"CAMI II Marine (short read)\",\n",
    "    \"mouselong\": \"CAMI II Toy Mouse Gut (long read)\",\n",
    "    \"mouseshort\": \"CAMI II Toy Mouse Gut (short read)\"\n",
    "}\n",
    "\n",
    "df_species[\"DataType_Folder_Nice\"] = df_species[\"DataType_Folder\"].map(data_type_labels)\n",
    "\n",
    "df_species = df_species.dropna(subset=[\"DataType_Folder_Nice\"])\n",
    "\n",
    "unique_data_types = sorted(df_species[\"DataType_Folder_Nice\"].unique())\n",
    "\n",
    "# ===== 3. 软件名称首字母大写 & Chimera 放在最左 ========================\n",
    "# 先把所有 software 名字的首字母大写\n",
    "df_species[\"Software\"] = df_species[\"Software\"].str.capitalize()\n",
    "\n",
    "# 获取所有软件名，排好序后把 \"Chimera\" 手动放最前\n",
    "software_order = sorted(df_species[\"Software\"].unique())\n",
    "if \"Chimera\" in software_order:\n",
    "    software_order.remove(\"Chimera\")\n",
    "    software_order = [\"Chimera\"] + software_order\n",
    "\n",
    "# ===== 4. 子图布局：2行×2列，分别画4个数据集 ===========================\n",
    "fig, axes = plt.subplots(2, 2, figsize=(12, 14), sharey=False)\n",
    "axes = axes.flatten()  # 把二维数组展平，方便用 axes[i] 索引\n",
    "# sns.set_style(\"whitegrid\")\n",
    "# sns.set_context(\"talk\")\n",
    "sns.set_palette(\"deep\")\n",
    "for i, dt_nice in enumerate(unique_data_types):\n",
    "    ax = axes[i]\n",
    "    \n",
    "    # 筛选当前 data_type 对应的数据\n",
    "    sub_df = df_species[df_species[\"DataType_Folder_Nice\"] == dt_nice]\n",
    "    \n",
    "    if sub_df.empty:\n",
    "        ax.set_title(f\"{dt_nice}\\n(无数据)\")\n",
    "        ax.set_xticks([])\n",
    "        ax.set_yticks([])\n",
    "        continue\n",
    "    \n",
    "    # 在同一个子图里，用 hue 区分 complete / completeONE\n",
    "    # 并指定软件的绘制顺序 order=software_order\n",
    "    sns.boxplot(\n",
    "        data=sub_df,\n",
    "        x=\"Software\",\n",
    "        y=\"L1 Distance\",\n",
    "        hue=\"DBType_Folder\",\n",
    "        order=software_order,\n",
    "        ax=ax\n",
    "    )\n",
    "    \n",
    "    # 设置子图标题\n",
    "    ax.set_title(dt_nice)\n",
    "    \n",
    "    # 旋转 x 轴标签，防止重叠\n",
    "    ax.tick_params(axis=\"x\", rotation=45)\n",
    "    \n",
    "    # 为了让图例不在每个子图都重复，先临时移除\n",
    "    if ax.get_legend():\n",
    "        ax.legend_.remove()\n",
    "\n",
    "# ===== 5. 设置大标题，并将图例放在大标题下方 ============================\n",
    "plt.suptitle(\"L1 Distance Comparison at Species Level\", fontsize=16)  # 大标题，可自行修改\n",
    "\n",
    "# 调整顶部边距，给大标题和图例留空间\n",
    "plt.tight_layout(rect=[0, 0, 1, 0.98])  # 调整子图整体布局，顶部预留空间给标题\n",
    "\n",
    "# 从最后一个子图（或第一个非空子图）获取句柄和标签，统一放在 figure 级别\n",
    "handles, labels = axes[-1].get_legend_handles_labels()\n",
    "fig.legend(\n",
    "    handles, \n",
    "    labels, \n",
    "    loc=\"upper center\",          # 位于整张图的上方居中\n",
    "    bbox_to_anchor=(0.875, 0.99), \n",
    "    ncol=2,                      # 两列排列\n",
    "    title=\"Database\"             # 把图例标题从 DBType_Folder 改成 \"Database\"\n",
    ")\n",
    "\n",
    "# axes[0].text(\n",
    "#     x=-0.05, y=1,          # 相对坐标，可根据需要微调\n",
    "#     s=\"A\",                   # 显示字母 A\n",
    "#     transform=axes[0].transAxes,  # 使用子图自身的坐标系\n",
    "#     fontsize=14, fontweight=\"bold\",\n",
    "#     ha=\"right\", va=\"bottom\"  # 对齐方式\n",
    "# )\n",
    "# \n",
    "# axes[1].text(\n",
    "#     x=-0.05, y=1, \n",
    "#     s=\"B\",\n",
    "#     transform=axes[1].transAxes,\n",
    "#     fontsize=14, fontweight=\"bold\",\n",
    "#     ha=\"right\", va=\"bottom\"\n",
    "# )\n",
    "# \n",
    "# axes[2].text(\n",
    "#     x=-0.05, y=1, \n",
    "#     s=\"C\",\n",
    "#     transform=axes[2].transAxes,\n",
    "#     fontsize=14, fontweight=\"bold\",\n",
    "#     ha=\"right\", va=\"bottom\"\n",
    "# )\n",
    "# \n",
    "# axes[3].text(\n",
    "#     x=-0.05, y=1, \n",
    "#     s=\"D\",\n",
    "#     transform=axes[3].transAxes,\n",
    "#     fontsize=14, fontweight=\"bold\",\n",
    "#     ha=\"right\", va=\"bottom\"\n",
    "# )\n",
    "\n",
    "plt.show()\n"
   ],
   "id": "3fcba2521cfc996a",
   "outputs": [],
   "execution_count": null
  },
  {
   "metadata": {
    "jupyter": {
     "is_executing": true
    }
   },
   "cell_type": "code",
   "source": [
    "# 保存图片为SVG和PDF格式\n",
    "fig.savefig(\"L1_Distance_Comparison_Species_Level.svg\", format=\"svg\", bbox_inches=\"tight\")\n",
    "fig.savefig(\"L1_Distance_Comparison_Species_Level.pdf\", format=\"pdf\", bbox_inches=\"tight\")"
   ],
   "id": "e8b74513556e0754",
   "outputs": [],
   "execution_count": null
  }
 ],
 "metadata": {
  "kernelspec": {
   "display_name": "Python 3 (ipykernel)",
   "language": "python",
   "name": "python3"
  },
  "language_info": {
   "codemirror_mode": {
    "name": "ipython",
    "version": 3
   },
   "file_extension": ".py",
   "mimetype": "text/x-python",
   "name": "python",
   "nbconvert_exporter": "python",
   "pygments_lexer": "ipython3",
   "version": "3.8.19"
  }
 },
 "nbformat": 4,
 "nbformat_minor": 5
}
